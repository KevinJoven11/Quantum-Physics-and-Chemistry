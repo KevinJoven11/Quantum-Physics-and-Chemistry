{
 "cells": [
  {
   "cell_type": "markdown",
   "metadata": {},
   "source": [
    "# <font color='blue'>QISKIT IN A NUTSHELL</font>\n",
    "\n",
    "We have 3 main components in Qiskit enviorement.\n",
    "* **Qiskit-aer**\n",
    "    * Allow us to do the simulation with noise and so on.\n",
    "* **Qiskit-terra**\n",
    "    * Is practically all the Qiskit, allow us to build the quantum circuits.\n",
    "* **Qiskit-ignis**\n",
    "    * Mitigations of erros.\n",
    "* **Qiskit-Aqua**\n",
    "    * Algorithms for near-term applications.\n",
    "    \n",
    "Topics to add: \n",
    "https://qiskit.org/documentation/apidoc/transpiler_passes.html  \n",
    "https://qiskit.org/documentation/tutorials/circuits_advanced/05_pulse_gates.html  \n",
    "https://qiskit.org/documentation/apidoc/circuit_library.html  \n",
    "https://github.com/qiskit-community/qiskit-advocate-test  \n",
    "https://github.com/Qiskit-Partners/qiskit-runtime/\n",
    "- Pulse\n",
    "- Error analisys\n",
    "- Optimization Circuits\n"
   ]
  },
  {
   "cell_type": "markdown",
   "metadata": {},
   "source": [
    "## <font color='blue'> How to install Qiskit Enviorement </font>\n",
    " 1. Go to cmd and do \"pip install git+https://github.com/qiskit-community/qiskit-textbook.git#subdirectory=qiskit-textbook-src\"\n",
    " 1. Make pip install qiskit\n",
    " 2. Install the qiskit_textbook \"pip install git+https://github.com/qiskit-community/qiskit-textbook.git#subdirectory=qiskit-textbook-src\"\n",
    " \n",
    "## <font color='blue'> Libraries Set-up</font>"
   ]
  },
  {
   "cell_type": "code",
   "execution_count": 1,
   "metadata": {},
   "outputs": [],
   "source": [
    "import qiskit\n",
    "import math\n",
    "import numpy as np\n",
    "import matplotlib.pyplot as plt\n",
    "from qiskit import QuantumCircuit, assemble, Aer, QuantumRegister, ClassicalRegister, transpile, IBMQ, execute\n",
    "from qiskit.visualization import plot_histogram, plot_bloch_multivector, plot_state_city\n",
    "from qiskit.tools.monitor import job_monitor\n",
    "\n",
    "# What next is the qiskit_textbook imports\n",
    "\n",
    "from qiskit_textbook.widgets import plot_bloch_vector_spherical\n",
    "from qiskit_textbook.tools import array_to_latex\n",
    "\n",
    "# Some extracts libraries\n",
    "\n",
    "from qiskit.quantum_info.analysis import hellinger_fidelity\n",
    "from qiskit.quantum_info import state_fidelity\n",
    "from qiskit.quantum_info import DensityMatrix\n",
    "from qiskit.visualization import plot_state_qsphere\n",
    "from qiskit.visualization import plot_gate_map\n",
    "from qiskit.visualization import plot_error_map\n",
    "from qiskit.visualization import visualize_transition\n",
    "\n",
    "# Libraries to mitigation\n",
    "\n",
    "from qiskit.ignis.mitigation.measurement import complete_meas_cal, CompleteMeasFitter"
   ]
  },
  {
   "cell_type": "markdown",
   "metadata": {},
   "source": [
    "# <font color='blue'>Created a Quantum Circuit:</font>\n",
    "* **QR = QuantumRegister(Size,'Name')** --> Create a Quantum Register to manipulated the circuit.\n",
    "* **CR = ClassicalRegister(Size,'Name')** --> Create a Classical Register to store the classical information.\n",
    "* **Name_QC = QuantumCircuit(#inputs,#outputs)** --> Create the quantum circuit, the parameter can be too the quantum and classical register.\n",
    "* **Name_QC.append(Other_QC,Position)** --> To Add another quantum circuit to your big circuit.\n",
    "* **Quantum_Gate = Name_QC.to_gate()** --> To convert your circuit to a gate.\n",
    "* **Quantum_Gate.name = 'Name'** --> To put a name to the quantum gate.\n",
    "* **Quantum_Circuit.depth()** --> Calculate the depth of a quantum circuit, remember that's the longes path to the end, and qiskit take a count the measurement.\n",
    "* **Quantum_Total = Quantum_Circuit_1.compose(Quantum_Circuit_2)** <-- Created a quantum circuit with the block of Quantum circuit 1 and quantum circuit 2.\n",
    "* **Quantum_Circuit.decompose()** --> Divide the quantum circuit into the primary building block.\n",
    "* **Density_Matrix = DensityMatrix.from_instruction(Quantum_Circuit)** --> Calculate the density matrix of a circuit and can be plotting by the plot_state-city() function.\n",
    "\n",
    "## <font color='blue'>Draw the circuit:</font>\n",
    "* **Name_QC.draw(Form)** --> Draw the circuit\n",
    "    * **mpl** <-- Like the IBM quantum experience.\n",
    "    * **text** <-- is the method by defect.\n",
    "    * **latex** <-- Like latex method.\n",
    "* **circuit_drawer(Quantum_Circuit, output='mpl')** --> Draw the circuit like the IBM Quantum Experience.\n",
    "* **visualize_transition(Quantum_Circuit, trace=True/False)** --> Only for the case of one Qubit, show the transition between gates.\n"
   ]
  },
  {
   "cell_type": "markdown",
   "metadata": {},
   "source": [
    "# <font color='blue'>Gates</font>\n",
    "* **Name_QC.barrier()** --> Barrier\n",
    "* **Name_QC.x(Position)** --> X Gate  \n",
    "* **Name_QC.y(Position)** --> Y Gate\n",
    "* **Name_QC.z(Position)** --> Z Gate\n",
    "* **Name_QC.cx(Control_Position,Target_Position)** --> CNOT Gate \n",
    "* **Name_QC.cz(Control_Position,Target_Position)** --> CZ Gate \n",
    "* **Name_QC.h(Position)** --> Hadamard Gate  \n",
    "* **Name_QC.ccx(Control_1,Control_2,Target_Position)** --> Toffoli Gate  \n",
    "* **Name_QC.measure(measure_qubit,output_qubit)** --> Measure Gate\n",
    "* **Name_QC.measure_all()** --> Measure all the circuit and add a barrier before the measure gate.\n",
    "* **Name_QC.reset(Position)** --> Reset the qubit to the 0 state\n",
    "* **Name_QC.initialize(initial_state,position)**\n",
    "    + For this case, initial_state and position can be vectors such as, initial_state a valid quantum state (Born rule) and a correspondenting dimention for the position, for example we have -- QC.initialize((0,0,0,1),(0,1))\n",
    "* **Name_QC.rx(Value,Position)** --> The RX(theta) Gate\n",
    "* **Name_QC.ry(Value,Position)** --> The RY(theta) Gate\n",
    "* **Name_QC.rz(Value,Position)** --> The RZ(theta) Gate\n",
    "* **Name_QC.s(Position)** --> The S Gate Phi=pi/2\n",
    "* **Name_QC.sdg(Position)** --> The S dagger Gate\n",
    "* **Name_QC.t(Position)** --> The T Gate Phi=pi/4\n",
    "* **Name_QC.tdg(Position)** --> The T dagger Gate\n",
    "* **Name_QC.cp(Phase,Control,Target)** --> The control phase gate\n",
    "* **Name_QC.u1(Theta,Position)** --> The U1 Gate -- Rot(Z)\n",
    "* **Name_QC.u2(Phi,Lambda,Position)** --> The U2 Gate -- Rot(X),Rot(Y)\n",
    "* **Name_QC.u3(Theta,Phi,Lambda,Position)** --> The U3 Gate (Simuliar to the U Gate) - that's something weird\n",
    "    * https://qiskit.org/documentation/stubs/qiskit.circuit.library.U3Gate.html \n",
    "* **Name_QC.u(Theta,Phi,Lambda,Position)** --> The U Gate\n",
    "* **Name_Qc.swap(Position_1,Position_2)** --> Swap Gate\n",
    "\n",
    "## <font color='blue'>Visualization tools</font>\n",
    "* **plot_bloch_vector_spherical([Theta, Phi, Radious])** --> Plot the vector representation."
   ]
  },
  {
   "cell_type": "markdown",
   "metadata": {},
   "source": [
    "# <font color='blue'>Simulation of Quantum Circuits</font>\n",
    "This process needs to run sequentialy.\n",
    "* **Aer.backends()** --> To know what backends we have.\n",
    "* **Simulation = Aer.get_backend(Form)** --> How to simulate the circuit\n",
    "    + Valid Form: *'qasm_simulator' - 'statevector_simulator' - 'unitary_simulator' - 'pulse_simulator'*\n",
    "* **Quantum_Transpiler = transpile(Quantum_Circuit,Simulation)** --> This is for the case that we have or not a gate implementation.\n",
    "* **Quantum_Obj = assemble(Quantum_Transpiler, shots=Shots, memory = True/False)** --> That is the form of how to trasfor the circuit to an implementable and can run.\n",
    "    * Quantum_Transpiler is the object that transpile before.\n",
    "    * Shots are the number of times that the quantum circuits runs.\n",
    "    * memory allow us to save the outcome to show it after the simulator, (only possible in the 'qasm_simulator')\n",
    "\n",
    "* **Result = Simulation.run(Quantum_Obj).result()** --> With the Simulation and the Quantum_Obj we can extract the result in the format that we chose in the Simulation previously. \n",
    "\n",
    "### <font color='blue'> ○ With the 'qasm_simulator' in Simulation</font>\n",
    "This section is to simulate the quantum circuits, in a histrogram representation, in this section we need the measure gates.\n",
    "\n",
    "* **Counts = Result.get_counts()** --> To extract the information to plot.\n",
    "* **plot_histogram(counts=[Counts],legend=[Legend],title=Title)** --> Plot the information\n",
    "    * Legend --> The label that have the result.\n",
    "    * Title --> The title that have the plot.\n",
    "\n",
    "### <font color='blue'> ○ With the 'statevector_simulator' in Simulation</font>\n",
    "\n",
    "we need to take care if the circuit has measurement, if not we have only 1 results (outcome).\n",
    "\n",
    "* **Out_State = Result.get_statevector()** --> To extract the information to print.\n",
    "* **print(Out_State)** --> Print the output\n",
    "* **plot_bloch_multivector(Out_State)** --> Plot in the bloch sphere\n",
    "* **array_to_latex(Out_State)** --> Show the state vector representaion\n",
    "* **plot_state_city(Out_State, title='Title')** --> Plot the state vector in a density matrix representation.\n",
    "* **plot_state_qsphere(Out_State)** --> Plot the state vector on the Qsphere.\n",
    "\n",
    "### <font color='blue'> ○ With the 'unitary_simulator' in Simulation</font>\n",
    "This section is to take the matrix representation of the circuit in a variable call Unitary.\n",
    "\n",
    "* **Unitary = Result.get_unitary()** --> Get the matrix representation of the circuit.\n",
    "* **print(Unitary)** --> Show the matrix representation\n",
    "\n",
    "### <font color='blue'> ○ With the 'pulse_simulator' in Simulation</font>\n"
   ]
  },
  {
   "cell_type": "markdown",
   "metadata": {},
   "source": [
    "## <font color='blue'>Important Measruments</font>\n",
    "\n",
    "* **hellinger_fidelity(Counts_1,Counts_2)** --> Show the fidelity of a quantum circuits, this fidelity need to runs two times and put the counts."
   ]
  },
  {
   "cell_type": "markdown",
   "metadata": {},
   "source": [
    "# <font color='blue'>Running in Real Hardware</font>\n",
    "This is the procedure to execute the quantum circuits in the IBM Quantum Experience.\n",
    "We have four main components to take care:\n",
    "* **Accounts**\n",
    "    * **IBMQ.save_account(TOKEN)** --> To sabe your account, the TOKEN is given after created a IBM Quantum account in the API token section.\n",
    "    * **IBMQ.load_account()** --> To load your account and can run circuits.\n",
    "* **Provider**\n",
    "    * **IBMQ.providers()** --> To know all the providers.\n",
    "    * **Provider = IBMQ.get_provider(Provider)** --> To setting the provider, usually is 'ibm-q' provider.\n",
    "* **Backend**\n",
    "    * **Provider.backends()** --> That's show all the backends that we can use in Device.\n",
    "    * **Device = Provider.get_backend(Backend)** --> To setting the device to run your circuit.\n",
    "        * **plot_gate_map(Device)** --> Show only the gate map of the chossen device.\n",
    "        * **plot_error_map(Device)** --> Show the gate map with error rates.\n",
    "To know more efficiently the Device that are less busy you can run this piece of code.\n",
    "\n",
    "<code>from qiskit.providers.ibmq import least_busy\n",
    "small_devices = Provider.backends(filters=lambda x: x.configuration().n_qubits == 5 and not x.configuration().simulator)\n",
    "least_busy(small_devices)\n",
    "</code>\n",
    "* **Job**\n",
    "    * **Job = execute(Quantum_Circuit,backend=Device, shots = Shots)** --> To run the circuit in the configure device.\n",
    "    * **job_monitor(Job)** --> To continously show the process of the circuit.\n",
    "    * **Result = Job.result()** --> To store the result in the variable.\n",
    "    * **plot_histogram(Result.get_counts(Quantum_Circuit))** --> To show the results.\n",
    " "
   ]
  },
  {
   "cell_type": "markdown",
   "metadata": {},
   "source": [
    "## <font color='blue'> Mitigation of Erros </font>\n",
    "\n",
    "* **Calibration_Circuit, States_Labels = complete_meas_cal(qr= Quantum_Circuit.qregs[0])** <-- Created the calibritation circuit, that allow created a circuit with only the inputs to calibrate every input.\n",
    "* **Calibration_Job = execute(Calibration_Circuit, backend = Device)** <-- Execute the job in the device of IBM.\n",
    "* **job_monitor(Calibration_Job)** <-- This is part of the subrutineto run a hardware device.\n",
    "* **Calibration_Result = Calibration_Job.result()** <-- Get the result to past to the another step.\n",
    "* **Measurement_Fitter = CompleteMeasFitter(Calibration_Result,States_Labels)** <-- Created the calibration.\n",
    "    * **Measurement_Fitter.plot_calibration()** <-- Show the calibration.\n",
    "* **Measurement_Filter = Measurement_Fitter.filter** <-- This allow us filter.\n",
    "* **Mitigation_Result = Measurement_Filter.apply(Result)** <-- Get the result of the new mitigation, with the current circuit.\n",
    "\n",
    "This is part of the save the counts to plot the information, the normal counts and the migitation counts.\n",
    "\n",
    "* **Normal_Counts = Result.get_counts(QC)**\n",
    "* **Mitigation_Counts = Mitigation_Result.get_counts(QC)**\n",
    "* **plot_histogram([Normal_Counts,Mitigation_Counts],legend=['Normal(Noise)','Mitigation'])**"
   ]
  },
  {
   "cell_type": "markdown",
   "metadata": {},
   "source": [
    "# <font color='green'>Quantum Assambling Language</font>\n",
    "\n",
    "* **Quantum_Circuit.qasm(formatted=True, filename='Name.qasm')** --> To convert a circuit to a qasm language.\n",
    "    * formatted helps to print the qasm in a better format.\n",
    "    * filename is the name to save the circuit in a .qasm format.\n",
    "* **Quantum_Circuit = QuantumCircuit.from_qasm_file('Name.qasm')** --> To load in a circuit the qasm file document.\n",
    "\n",
    "## <font color='green'> Language sintax </font>\n",
    "We need always a semicolon at the end of every statement.\n",
    "In the case that the [position] of the gate is null, the gate is apply to all positions.\n",
    "\n",
    "* **qreg name[size];** --> To created a quantum register\n",
    "* **creg name[size]:** --> To created a classical register\n",
    "* **measure qreg_name[Position] -> creg_name[Position];** --> To measure the qubit\n",
    "* **x qreg_name[Position];** --> Apply a x gate.\n",
    "* **y qreg_name[Position];** --> Apply a y gate.\n",
    "* **z qreg_name[Position];** --> Apply a z gate.\n",
    "* **rx(Angle) qreg_name[Position];** --> Apply a rx gate.\n",
    "* **ry(Angle) qreg_name[Position];** --> Apply a ry gate.\n",
    "* **rz(Angle) qreg_name[Position];** --> Apply a rz gate.\n",
    "* **cx qreg_name[Control_Position],qreg_name[Target_Position];** --> Apply a CNOT gate.\n",
    "* **barrier qreg_name[Position];** --> Apply a barrier."
   ]
  },
  {
   "cell_type": "markdown",
   "metadata": {},
   "source": [
    "# <font color='red'> Applications in Qiskit </font>"
   ]
  },
  {
   "cell_type": "markdown",
   "metadata": {},
   "source": [
    "##  <font color='red'> Variational Quantum Eigensolver (VQE) </font>\n",
    "\n",
    "Is not support without the pyscf package that not support windows."
   ]
  },
  {
   "cell_type": "code",
   "execution_count": 1,
   "metadata": {},
   "outputs": [],
   "source": [
    "import pylab\n",
    "import copy\n",
    "from qiskit import BasicAer\n",
    "from qiskit.aqua import aqua_globals, QuantumInstance\n",
    "from qiskit.aqua.algorithms import NumPyMinimumEigensolver, VQE\n",
    "from qiskit.aqua.components.optimizers import SLSQP\n",
    "from qiskit.chemistry.components.initial_states import HartreeFock\n",
    "from qiskit.chemistry.components.variational_forms import UCCSD\n",
    "from qiskit.chemistry.drivers import PySCFDriver\n",
    "from qiskit.chemistry.core import Hamiltonian, QubitMappingType"
   ]
  },
  {
   "cell_type": "markdown",
   "metadata": {},
   "source": [
    "## <font color='red'> Quantum Support Vector Machine </font>"
   ]
  },
  {
   "cell_type": "code",
   "execution_count": null,
   "metadata": {},
   "outputs": [],
   "source": [
    "from qiskit.ml.datasets import ad_hoc_data\n",
    "from qiskit.aqua import QuantumInstance\n",
    "from qiskit.circuit.library import ZZFeatureMap\n",
    "from qiskit.aqua.algorithms import QSVM\n",
    "from qiskit.aqua.utils import split_dataset_to_data_and_labels\n",
    "from qiskit.aqua.utils import map_label_to_class_name"
   ]
  },
  {
   "cell_type": "markdown",
   "metadata": {},
   "source": [
    "### <font color='red'> Some dummy data </font>\n",
    "\n",
    "* **Sample, Training_Input, Test_Input, Labels = ad_hoc_data(Training_Size, Test_Size,gap=Gap, n=Dimension, plot_data=True/False)** <--Take the data from the ad_hoc_data.\n",
    "    * **Training_Size** <-- Data for training the machine for this data set can be 20.\n",
    "    * **Test_Size** <-- Data for test the machine for this data set can be 10.\n",
    "    * **Gap** <-- unsecure, take data about 0.3.\n",
    "    * **Dimension** <-- The dimension, commonly 2.\n",
    "    \n",
    "### <font color='red'> Step to Run </font>\n",
    "This steps need to run sequencially to works.\n",
    "\n",
    "* **Backend = BasicAer.get_backend('qasm_simulator')** <-- Prepare the backend.\n",
    "* **Feature_Map = ZZFeatureMap(Dimension, reps = 2)** <-- Created the feature map.\n",
    "* **svm = QSVM(Feature_Map, Training_Input, Test_Input, None)** <-- Configure the supper vector machine, in this step is important to note that the training input and the test input can be different of the dummy data.\n",
    "* **svm.random_seed = Seed** <-- Modified the see of the machine, commonly 10548.\n",
    "* **Quantum_Instance = QuantumInstance(Backend, shots=Shots, seed_simulator=Seed, seed_transpiler = Seed)** <-- Created the instance.\n",
    "* **Result = svm.run(Quantum_Instance)** <-- Get the results.\n",
    "    * **print(Result)** <-- To show the information related with the result.\n",
    "    * **Kernel_Matrix = Result['kernel_matrix_training']** <-- To save the kernel matrix.\n",
    "    * **img = plt.imshow(np.asmatrix(Kernel_Matrix),interpolation='nearest',origin='upper')** <-- To modified the matrix.\n",
    "    * **plt.show()** <-- To plot.\n",
    "    * **print(Result['testing_accuracy'])** <-- To only show the accuracy."
   ]
  },
  {
   "cell_type": "markdown",
   "metadata": {},
   "source": [
    "## <font color='red'> Shors Algorithm </font>"
   ]
  },
  {
   "cell_type": "code",
   "execution_count": null,
   "metadata": {},
   "outputs": [],
   "source": [
    "from qiskit.aqua.algorithms import Shor\n",
    "from qiskit.aqua import QuantumInstance"
   ]
  },
  {
   "cell_type": "markdown",
   "metadata": {},
   "source": [
    "* **Backend = Aer.get_backend('qasm_simulator')** <-- Configure the backend.\n",
    "* **Quantum_Instance = QuantumInstance(Backend)** <-- Created a quantum instance.\n",
    "* **Shor_Circuit = Shor(N=Number,a=Base,quantum_instance=Quantum_Instance)** <-- Configure que parameters of shors algorithm.\n",
    "    * **Number** <-- Number to factorize.\n",
    "    * **a** <-- The base in the shor algorithm."
   ]
  },
  {
   "cell_type": "code",
   "execution_count": null,
   "metadata": {},
   "outputs": [],
   "source": []
  }
 ],
 "metadata": {
  "kernelspec": {
   "display_name": "Python 3 (ipykernel)",
   "language": "python",
   "name": "python3"
  },
  "language_info": {
   "codemirror_mode": {
    "name": "ipython",
    "version": 3
   },
   "file_extension": ".py",
   "mimetype": "text/x-python",
   "name": "python",
   "nbconvert_exporter": "python",
   "pygments_lexer": "ipython3",
   "version": "3.9.6"
  }
 },
 "nbformat": 4,
 "nbformat_minor": 4
}
